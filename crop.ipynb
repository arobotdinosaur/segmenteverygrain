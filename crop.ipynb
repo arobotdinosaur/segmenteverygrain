{
 "cells": [
  {
   "cell_type": "code",
   "execution_count": 7,
   "id": "ba42a296",
   "metadata": {},
   "outputs": [
    {
     "name": "stdout",
     "output_type": "stream",
     "text": [
      "Cropping complete! Cropped images are in: ./examples/unet_training2/Masks_and_images\n"
     ]
    }
   ],
   "source": [
    "import os\n",
    "from PIL import Image\n",
    "\n",
    "# --- SETTINGS ---\n",
    "input_dir = \"./examples/unet_training2/Masks_and_images\"   # directory with original images\n",
    "output_dir = \"./examples/unet_training2/Masks_and_images\" # directory to save cropped images\n",
    "prefix = \"cropped_\"      # prefix for new file names\n",
    "\n",
    "# Create output directory if it doesn't exist\n",
    "os.makedirs(output_dir, exist_ok=True)\n",
    "\n",
    "# Loop over all .tif files in the input directory\n",
    "for fname in os.listdir(input_dir):\n",
    "    if fname.lower().endswith(\".tif\"): #and fname.startswith(\"prac7_etched\"):\n",
    "        in_path = os.path.join(input_dir, fname)\n",
    "\n",
    "        # Open image\n",
    "        with Image.open(in_path) as img:\n",
    "            # --- DEFINE YOUR CROP BOX ---\n",
    "            # Format: (left, upper, right, lower)\n",
    "            # Example: crop 100px from each side\n",
    "            crop_box = (0, 0, img.width, img.height - 65)\n",
    "            cropped = img.crop(crop_box)\n",
    "\n",
    "            # Build output file name\n",
    "            out_name = prefix + fname\n",
    "            out_path = os.path.join(output_dir, out_name)\n",
    "\n",
    "            # Save cropped image\n",
    "            cropped.save(out_path)\n",
    "\n",
    "print(\"Cropping complete! Cropped images are in:\", output_dir)\n"
   ]
  }
 ],
 "metadata": {
  "kernelspec": {
   "display_name": "grains",
   "language": "python",
   "name": "python3"
  },
  "language_info": {
   "codemirror_mode": {
    "name": "ipython",
    "version": 3
   },
   "file_extension": ".py",
   "mimetype": "text/x-python",
   "name": "python",
   "nbconvert_exporter": "python",
   "pygments_lexer": "ipython3",
   "version": "3.9.23"
  }
 },
 "nbformat": 4,
 "nbformat_minor": 5
}
